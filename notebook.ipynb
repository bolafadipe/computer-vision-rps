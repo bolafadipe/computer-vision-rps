{
 "cells": [
  {
   "cell_type": "code",
   "execution_count": 40,
   "metadata": {},
   "outputs": [
    {
     "name": "stdout",
     "output_type": "stream",
     "text": [
      "rock\n"
     ]
    }
   ],
   "source": [
    "np.array(prediction)\n",
    "idx_max = prediction.argmax()\n",
    "choices = [\"rock\", \"paper\", \"scissors\", \"nothing\"]\n",
    "print(choices[idx_max])"
   ]
  },
  {
   "cell_type": "code",
   "execution_count": 2,
   "metadata": {},
   "outputs": [
    {
     "name": "stdout",
     "output_type": "stream",
     "text": [
      "paper\n"
     ]
    }
   ],
   "source": [
    "\n",
    "\n",
    "import numpy as np\n",
    "my_list = [[0.1,0.8,0.05,0.05]]\n",
    "max_val = max(my_list[0])\n",
    "idx_max = my_list[0].index(max_val)\n",
    "choices = [\"rock\", \"paper\", \"scissors\", \"nothing\"]\n",
    "print(choices[idx_max])"
   ]
  },
  {
   "cell_type": "code",
   "execution_count": 21,
   "metadata": {},
   "outputs": [
    {
     "name": "stdout",
     "output_type": "stream",
     "text": [
      "0.9\n",
      "2\n",
      "scissors\n"
     ]
    }
   ],
   "source": [
    "prediction = [[0.1,0.2,0.9,0.05]]\n",
    "max_val = max(prediction[0])\n",
    "print(max_val)\n",
    "idx_max = prediction[0].index(max_val)\n",
    "print(idx_max)\n",
    "choices = [\"rock\", \"paper\", \"scissors\", \"nothing\"]\n",
    "print(choices[idx_max])"
   ]
  },
  {
   "cell_type": "code",
   "execution_count": 16,
   "metadata": {},
   "outputs": [
    {
     "name": "stdout",
     "output_type": "stream",
     "text": [
      "WARNING:tensorflow:No training configuration found in the save file, so the model was *not* compiled. Compile it manually.\n",
      "1/1 [==============================] - 1s 1s/step\n",
      "[[9.9996674e-01 3.1360076e-05 7.0703003e-08 1.7979771e-06]]\n",
      "passing\n",
      "1. stopped camera\n",
      "[[9.9996674e-01 3.1360076e-05 7.0703003e-08 1.7979771e-06]]\n",
      "2. cv_choice var prints: rock\n",
      "3. You picked: rock. The computer picked rock\n",
      "It's a draw!\n",
      "WARNING:tensorflow:No training configuration found in the save file, so the model was *not* compiled. Compile it manually.\n",
      "1/1 [==============================] - 1s 1s/step\n",
      "[[9.9944836e-01 5.5166020e-04 1.7203015e-10 2.7640686e-08]]\n",
      "passing\n",
      "1. stopped camera\n",
      "[[9.9944836e-01 5.5166020e-04 1.7203015e-10 2.7640686e-08]]\n",
      "2. cv_choice var prints: rock\n",
      "3. You picked: rock. The computer picked rock\n",
      "It's a draw!\n",
      "WARNING:tensorflow:No training configuration found in the save file, so the model was *not* compiled. Compile it manually.\n",
      "1/1 [==============================] - 1s 1s/step\n",
      "[[9.9997950e-01 1.9902533e-05 4.1473690e-08 6.3193073e-07]]\n",
      "passing\n",
      "1. stopped camera\n",
      "[[9.9997950e-01 1.9902533e-05 4.1473690e-08 6.3193073e-07]]\n",
      "2. cv_choice var prints: rock\n",
      "3. You picked: rock. The computer picked rock\n",
      "It's a draw!\n",
      "WARNING:tensorflow:No training configuration found in the save file, so the model was *not* compiled. Compile it manually.\n",
      "1/1 [==============================] - 1s 917ms/step\n",
      "[[9.9998534e-01 1.4193496e-05 1.5602939e-08 4.8147530e-07]]\n",
      "game end\n"
     ]
    }
   ],
   "source": [
    "import random #for computer choice\n",
    "import cv2 #to leverage camera\n",
    "from keras.models import load_model #to run the  model\n",
    "import numpy as np #for arrays for interpretting the image\n",
    "import time\n",
    "\n",
    "\n",
    "\n",
    "class CvRps:\n",
    "\n",
    "    choice_list = ['rock', 'paper', 'scissors'] #declared this outside the init without self\n",
    "    start_time = time.time()\n",
    "\n",
    "    seconds = 3 #set how many seconds to run the camera \n",
    "    computer_wins = 0\n",
    "    user_wins = 0\n",
    "\n",
    "    def __init__(self,rounds):\n",
    "        self.rounds = 0 \n",
    "\n",
    "    def get_prediction(self, rounds):        \n",
    "        \n",
    "        \n",
    "        while self.rounds <= 3:\n",
    "            model = load_model('keras_model.h5')\n",
    "            cap = cv2.VideoCapture(0)\n",
    "            data = np.ndarray(shape=(1, 224, 224, 3), dtype=np.float32)\n",
    "            ret, frame = cap.read()\n",
    "            resized_frame = cv2.resize(frame, (224, 224), interpolation = cv2.INTER_AREA)\n",
    "            image_np = np.array(resized_frame)\n",
    "            normalized_image = (image_np.astype(np.float32) / 127.0) - 1 # Normalize the image\n",
    "            data[0] = normalized_image\n",
    "            cv2.imshow('frame', frame)\n",
    "            prediction = model.predict(data)\n",
    "            print(prediction) #test to see if the values are changing - REMOVE\n",
    "    \n",
    "            self.rounds = self.rounds + 1\n",
    "\n",
    "            current_time = time.time()\n",
    "            elapsed_time = current_time - CvRps.start_time\n",
    "            if elapsed_time > CvRps.seconds:\n",
    "                if self.rounds <= 3:\n",
    "                    print('passing')\n",
    "                    pass \n",
    "                else: \n",
    "                    break\n",
    "\n",
    "            self.stop_camera(cap)#call the method to stop the camera\n",
    "            self.get_user_choice(prediction)#call the convert the array to a choice\n",
    "        \n",
    "        else: \n",
    "            print('hit the last else') \n",
    "                \n",
    "\n",
    "        \n",
    "    def stop_camera(self, cap):\n",
    "        print('1. stopped camera') #just a test - REMOVE \n",
    "        cap.release()# After the loop release the cap object\n",
    "        cv2.destroyAllWindows()# Destroy all the windows\n",
    "        pass   \n",
    "\n",
    "    def get_user_choice(self, prediction):\n",
    "        print(prediction)\n",
    "        np.array(prediction) #convert to array\n",
    "        idx_max = prediction.argmax() #find the max value\n",
    "        choices = [\"rock\", \"paper\", \"scissors\", \"nothing\"]\n",
    "        user_camera_choice = choices[idx_max]\n",
    "        print(f'2. cv_choice var prints: {user_camera_choice}') ##just a test - REMOVE\n",
    "        self.get_computer_choice(user_camera_choice) \n",
    "\n",
    "    def get_computer_choice(self,user_choice):\n",
    "        computer_choice = random.choice(CvRps.choice_list)\n",
    "        print(f\"3. You picked: {user_choice}. The computer picked {computer_choice}\") #just testing to see if it makes it here\n",
    "        self.get_winner(user_choice, computer_choice)\n",
    "\n",
    "    def get_winner(self, user_choice, computer_choice):\n",
    "        if computer_choice == user_choice:\n",
    "            print(\"It's a draw!\")\n",
    "        elif computer_choice == 'rock' and user_choice == 'scissors':\n",
    "            CvRps.computer_wins += 1\n",
    "            print('You lost')\n",
    "        elif computer_choice == 'rock' and user_choice == 'paper':\n",
    "            print('You Won')\n",
    "            CvRps.user_wins += 1\n",
    "        elif computer_choice == 'paper' and user_choice == 'rock':\n",
    "            print('You lost')\n",
    "            CvRps.computer_wins += 1\n",
    "        elif computer_choice == 'paper' and user_choice == 'scissors':\n",
    "            print('You won')\n",
    "            CvRps.user_wins += 1\n",
    "        elif computer_choice == 'scissors' and user_choice == 'rock':\n",
    "            print('You won')\n",
    "            CvRps.user_wins += 1\n",
    "        elif computer_choice == 'scissors' and user_choice == 'paper':\n",
    "            print('You lost')\n",
    "            CvRps.computer_wins += 1\n",
    "        else:\n",
    "            print('No Result: Seems to be an error somewhere')\n",
    "\n",
    "def play_rps():\n",
    "    game = CvRps(3)\n",
    "    game.get_prediction(3)\n",
    "    print('game end')\n",
    "    cv2.VideoCapture(0).release()# After the loop release the cap object\n",
    "    cv2.destroyAllWindows()# Destroy all the windows\n",
    "\n",
    "\n",
    "play_rps()"
   ]
  }
 ],
 "metadata": {
  "kernelspec": {
   "display_name": "Python 3.8.3 ('myenv': venv)",
   "language": "python",
   "name": "python3"
  },
  "language_info": {
   "codemirror_mode": {
    "name": "ipython",
    "version": 3
   },
   "file_extension": ".py",
   "mimetype": "text/x-python",
   "name": "python",
   "nbconvert_exporter": "python",
   "pygments_lexer": "ipython3",
   "version": "3.8.3"
  },
  "orig_nbformat": 4,
  "vscode": {
   "interpreter": {
    "hash": "46df01c1277bbafd5d9ee5000047bc4fcd386374d4f032a794278b95e9894e55"
   }
  }
 },
 "nbformat": 4,
 "nbformat_minor": 2
}
