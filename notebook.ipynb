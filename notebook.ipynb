{
 "cells": [
  {
   "cell_type": "code",
   "execution_count": null,
   "metadata": {},
   "outputs": [],
   "source": [
    "# python -m venv rps_env\n",
    "# source myenv/bin/activate\n",
    "# Me to Everyone (8:17 p.m.)\n",
    "# Pip install —upgrade pip\n",
    "code . to open the folder in the hting"
   ]
  },
  {
   "cell_type": "code",
   "execution_count": 1,
   "metadata": {},
   "outputs": [
    {
     "name": "stderr",
     "output_type": "stream",
     "text": [
      "2022-08-16 14:26:02.914374: I tensorflow/core/platform/cpu_feature_guard.cc:193] This TensorFlow binary is optimized with oneAPI Deep Neural Network Library (oneDNN) to use the following CPU instructions in performance-critical operations:  AVX2 FMA\n",
      "To enable them in other operations, rebuild TensorFlow with the appropriate compiler flags.\n"
     ]
    },
    {
     "name": "stdout",
     "output_type": "stream",
     "text": [
      "WARNING:tensorflow:No training configuration found in the save file, so the model was *not* compiled. Compile it manually.\n"
     ]
    },
    {
     "ename": "ValueError",
     "evalue": "could not broadcast input array from shape (224,224,3) into shape (224,224,4)",
     "output_type": "error",
     "traceback": [
      "\u001b[0;31m---------------------------------------------------------------------------\u001b[0m",
      "\u001b[0;31mValueError\u001b[0m                                Traceback (most recent call last)",
      "\u001b[1;32m/Users/ronan/Desktop/GitHub/computer-vision-rps/notebook.ipynb Cell 2\u001b[0m in \u001b[0;36m<cell line: 9>\u001b[0;34m()\u001b[0m\n\u001b[1;32m     <a href='vscode-notebook-cell:/Users/ronan/Desktop/GitHub/computer-vision-rps/notebook.ipynb#W1sZmlsZQ%3D%3D?line=10'>11</a>\u001b[0m image_np \u001b[39m=\u001b[39m np\u001b[39m.\u001b[39marray(resized_frame)\n\u001b[1;32m     <a href='vscode-notebook-cell:/Users/ronan/Desktop/GitHub/computer-vision-rps/notebook.ipynb#W1sZmlsZQ%3D%3D?line=11'>12</a>\u001b[0m normalized_image \u001b[39m=\u001b[39m (image_np\u001b[39m.\u001b[39mastype(np\u001b[39m.\u001b[39mfloat32) \u001b[39m/\u001b[39m \u001b[39m127.0\u001b[39m) \u001b[39m-\u001b[39m \u001b[39m1\u001b[39m \u001b[39m# Normalize the image\u001b[39;00m\n\u001b[0;32m---> <a href='vscode-notebook-cell:/Users/ronan/Desktop/GitHub/computer-vision-rps/notebook.ipynb#W1sZmlsZQ%3D%3D?line=12'>13</a>\u001b[0m data[\u001b[39m0\u001b[39;49m] \u001b[39m=\u001b[39m normalized_image\n\u001b[1;32m     <a href='vscode-notebook-cell:/Users/ronan/Desktop/GitHub/computer-vision-rps/notebook.ipynb#W1sZmlsZQ%3D%3D?line=13'>14</a>\u001b[0m prediction \u001b[39m=\u001b[39m model\u001b[39m.\u001b[39mpredict(data)\n\u001b[1;32m     <a href='vscode-notebook-cell:/Users/ronan/Desktop/GitHub/computer-vision-rps/notebook.ipynb#W1sZmlsZQ%3D%3D?line=14'>15</a>\u001b[0m \u001b[39mif\u001b[39;00m prediction[\u001b[39m0\u001b[39m][\u001b[39m0\u001b[39m] \u001b[39m>\u001b[39m\u001b[39m.5\u001b[39m:\n",
      "\u001b[0;31mValueError\u001b[0m: could not broadcast input array from shape (224,224,3) into shape (224,224,4)"
     ]
    }
   ],
   "source": [
    "import cv2 #library from opencv to allow us to use the camera\n",
    "from keras.models import load_model #helps load the model .h5 file #keras makes it easier to work with tensorflow\n",
    "import numpy as np #need this as the images are presented in arrays\n",
    "model = load_model('keras_model.h5') \n",
    "cap = cv2.VideoCapture(0) #object to control the input of the camera\n",
    "data = np.ndarray(shape=(1, 224, 224, 3), dtype=np.float32) #1 image, by 244 pixels wide/ high\n",
    "\n",
    "while True: \n",
    "    ret, frame = cap.read() #Read the image and transfform into an array/ matrix of numbers\n",
    "    resized_frame = cv2.resize(frame, (224, 224), interpolation = cv2.INTER_AREA)#need to resize the camera input to match the model\n",
    "    image_np = np.array(resized_frame)\n",
    "    normalized_image = (image_np.astype(np.float32) / 127.0) - 1 # Normalize the image as all images are made up of pixels and each\n",
    "                                                                #pixel goes from 0-255. So need to make them all between 0&1\n",
    "    data[0] = normalized_image\n",
    "    prediction = model.predict(data) #pass the normalised image to the model\n",
    "    if prediction[0][0] >.5:\n",
    "        print('Rock')\n",
    "    elif prediction[0][1] >.5:\n",
    "        print('Paper')\n",
    "    if prediction[0][2] >.5:\n",
    "        print('Scissors')\n",
    "    else:\n",
    "        print('Nothing')\n",
    "    cv2.imshow('frame', frame) #show the camera \n",
    "    # Press q to close the window\n",
    "    # print(prediction)\n",
    "    if cv2.waitKey(1) & 0xFF == ord('q'):\n",
    "        break\n",
    "            \n",
    "# After the loop release the cap object\n",
    "cap.release()\n",
    "# Destroy all the windows\n",
    "cv2.destroyAllWindows()\n"
   ]
  },
  {
   "cell_type": "code",
   "execution_count": null,
   "metadata": {},
   "outputs": [],
   "source": []
  },
  {
   "cell_type": "code",
   "execution_count": 4,
   "metadata": {},
   "outputs": [],
   "source": [
    "cv2.destroyAllWindows()\n",
    "for i in range(1,5):\n",
    "    cv2.waitKey(1)"
   ]
  }
 ],
 "metadata": {
  "kernelspec": {
   "display_name": "Python 3.8.3 ('myenv': venv)",
   "language": "python",
   "name": "python3"
  },
  "language_info": {
   "codemirror_mode": {
    "name": "ipython",
    "version": 3
   },
   "file_extension": ".py",
   "mimetype": "text/x-python",
   "name": "python",
   "nbconvert_exporter": "python",
   "pygments_lexer": "ipython3",
   "version": "3.8.3"
  },
  "orig_nbformat": 4,
  "vscode": {
   "interpreter": {
    "hash": "46df01c1277bbafd5d9ee5000047bc4fcd386374d4f032a794278b95e9894e55"
   }
  }
 },
 "nbformat": 4,
 "nbformat_minor": 2
}
